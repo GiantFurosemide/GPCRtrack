{
 "cells": [
  {
   "cell_type": "code",
   "execution_count": null,
   "outputs": [],
   "source": [
    "import fcsparser"
   ],
   "metadata": {
    "collapsed": false
   }
  },
  {
   "cell_type": "code",
   "execution_count": 2,
   "outputs": [],
   "source": [
    "fcs_path = 'data/exp_06012023-h2.EP5.FCS'\n",
    "#fcs_path ='data/exp_06012023-s1.PRO.FCS'\n",
    "#fcs_path ='data/inf_06022023-1.EP5.FCS'"
   ],
   "metadata": {
    "collapsed": false
   }
  },
  {
   "cell_type": "code",
   "execution_count": 3,
   "outputs": [],
   "source": [
    "meta, data = fcsparser.parse(fcs_path, reformat_meta=True)"
   ],
   "metadata": {
    "collapsed": false
   }
  },
  {
   "cell_type": "code",
   "execution_count": 4,
   "outputs": [
    {
     "data": {
      "text/plain": "{'__header__': {'FCS format': b'FCS3.0',\n  'text start': 58,\n  'text end': 7690,\n  'data start': 7691,\n  'data end': 95690,\n  'analysis start': 0,\n  'analysis end': 0},\n 'GTI$BEGINLOG': '   9181407',\n 'GTI$ENDLOG': '   9266195',\n '$BEGINANALYSIS': '0',\n '$ENDANALYSIS': '0',\n '$BEGINSTEXT': '0',\n '$ENDSTEXT': '0',\n '$NEXTDATA': 95691,\n '$SYS': 'Microsoft Windows XP ',\n 'GTI$DataSetName': 'D:\\\\data\\\\expressplus\\\\202306\\\\exp_06012023-h2.EP5.FCS',\n '$FIL': 'D:\\\\data\\\\expressplus\\\\202306\\\\exp_06012023-h2.EP5.FCS',\n 'GTI$DILUTIONFACTOR': '20.000000',\n 'GTI$ORIGINALVOLUME': '10.000000',\n 'GTI$TOTALNUMREADINGS': '951930',\n 'GTI$PUMPSAMPLESPEED': '5',\n 'GTI$FLOWRATECAL': '0.118000',\n '$CYT': 'Guava PCA(tm), CytoSoft 3.6',\n '$TR': 'FSC-HLin,19',\n 'GTI$SAMPLEID': 's16851_106257',\n '$SMNO': '1',\n 'GTI$TERMINATIONCOUNT': ',2000',\n 'GTI$ACCESSRIGHTS': 'Administrator',\n 'GTI$ANALYSISDATE': '01-JUN-2023 ',\n 'GTI$ANALYSISTIME': '14:02:18 ',\n 'GTI$USERNAME': 'DELL-4C85F8C16D\\\\Administrator',\n 'GTI$FULLUSERNAME': 'Unknown',\n 'GTI$WORKLIST': 'C:\\\\Documents and Settings\\\\Administrator\\\\Desktop\\\\2023-6-1-h1.gwl',\n 'GTI$INSTRUMENTTYPE': '4',\n 'GTI$Channel0FineGain': '100',\n 'GTI$Channel1FineGain': '100',\n 'GTI$Channel2FineGain': '100',\n 'GTI$Channel3FineGain': '100',\n 'GTI$Channel4FineGain': '119',\n 'GTI$ASSAYTYPE': 'EXPRESSPLUS20',\n 'GTI$ERRORCOUNT': '0',\n 'GTI$HIGHCONCTRIGGER': '500',\n 'GTI$CompensationPM3PM2': '0.0000',\n 'GTI$CompensationPM3PM1': '0.0000',\n 'GTI$CompensationPM2PM3': '0.0000',\n 'GTI$CompensationPM2PM1': '0.0000',\n 'GTI$CompensationPM1PM3': '0.0000',\n 'GTI$CompensationPM1PM2': '0.0000',\n 'GTI$Channel0Baseline': '192',\n 'GTI$Channel1Baseline': '185',\n 'GTI$Channel2Baseline': '199',\n 'GTI$Channel3Baseline': '178',\n 'GTI$Channel4Baseline': '187',\n '$P12G': '1',\n '$P13G': '1',\n '$P12V': '0',\n '$P13V': '0',\n '$CYTSN': '6735116044',\n '$TIMESTEP': '0.000025',\n '$BTIM': '14:01:30 ',\n 'GTI$NREGIONS': '17',\n 'GTI$R1ACT': '0',\n 'GTI$R2ACT': '0',\n 'GTI$R3ACT': '0',\n 'GTI$R4ACT': '1',\n 'GTI$R5ACT': '1',\n 'GTI$R6ACT': '1',\n 'GTI$R7ACT': '0',\n 'GTI$R8ACT': '0',\n 'GTI$R9ACT': '0',\n 'GTI$R10ACT': '0',\n 'GTI$R11ACT': '0',\n 'GTI$R12ACT': '0',\n 'GTI$R13ACT': '1',\n 'GTI$R14ACT': '1',\n 'GTI$R15ACT': '0',\n 'GTI$R16ACT': '0',\n 'GTI$R17ACT': '0',\n 'GTI$R1S': 'Plot 1: Rectangular Region',\n 'GTI$R1COL': '000000000000',\n 'GTI$R1TYP': 'RECTREGION',\n '$R1I': 'P6,P7',\n 'GTI$R1DEF': '0.00000,3.61225,3.61225,0.00000',\n 'GTI$R2S': 'Plot 1: Histogram',\n 'GTI$R2COL': '000000000000',\n 'GTI$R2TYP': 'HISTMARKER',\n '$R2I': 'P4',\n 'GTI$R2DEF': '0.00000,0.00000',\n 'GTI$R3S': 'Plot 2: Rectangular Region',\n 'GTI$R3COL': '000000000000',\n 'GTI$R3TYP': 'RECTREGION',\n '$R3I': 'P4,P3',\n 'GTI$R3DEF': '0.00000,3.61225,3.61225,0.00000',\n 'GTI$R4S': 'Plot 2: Histogram Marker 1',\n 'GTI$R4COL': '000000000000',\n 'GTI$R4TYP': 'HISTMARKER',\n '$R4I': 'P3',\n 'GTI$R4DEF': '0.00000,1.39794',\n 'GTI$R5S': 'Plot 2: Histogram Marker 2',\n 'GTI$R5COL': '000000000000',\n 'GTI$R5TYP': 'HISTMARKER',\n '$R5I': 'P3',\n 'GTI$R5DEF': '1.39794,3.61236',\n 'GTI$R6S': 'Plot 2: Histogram Marker 3',\n 'GTI$R6COL': '000000000000',\n 'GTI$R6TYP': 'HISTMARKER',\n '$R6I': 'P3',\n 'GTI$R6DEF': '3.61236,3.61236',\n 'GTI$R7S': 'Plot 2: Quadrant Marker X Axis',\n 'GTI$R7COL': '000000000000',\n 'GTI$R7TYP': 'DOTMARKER',\n '$R7I': 'P4,P3',\n 'GTI$R7DEF': '0.00000,0.00000',\n 'GTI$R8S': 'Plot 2: Quadrant Marker Y Axis',\n 'GTI$R8COL': '000000000000',\n 'GTI$R8TYP': 'DOTMARKER',\n '$R8I': 'P3,P4',\n 'GTI$R8DEF': '0.00000,0.00000',\n 'GTI$R9S': 'Plot 3: Rectangular Region',\n 'GTI$R9COL': '000000000000',\n 'GTI$R9TYP': 'RECTREGION',\n '$R9I': 'P3,P5',\n 'GTI$R9DEF': '0.00000,3.61225,3.61225,0.00000',\n 'GTI$R10S': 'Plot 3: Histogram Marker 1',\n 'GTI$R10COL': '000000000000',\n 'GTI$R10TYP': 'HISTMARKER',\n '$R10I': 'P3',\n 'GTI$R10DEF': '0.00000,0.00000',\n 'GTI$R11S': 'Plot 3: Histogram Marker 2',\n 'GTI$R11COL': '000000000000',\n 'GTI$R11TYP': 'HISTMARKER',\n '$R11I': 'P3',\n 'GTI$R11DEF': '0.00000,0.00000',\n 'GTI$R12S': 'Plot 3: Histogram Marker 3',\n 'GTI$R12COL': '000000000000',\n 'GTI$R12TYP': 'HISTMARKER',\n '$R12I': 'P3',\n 'GTI$R12DEF': '0.00000,0.00000',\n 'GTI$R13S': 'Plot 3: Quadrant Marker X Axis',\n 'GTI$R13COL': '000000000000',\n 'GTI$R13TYP': 'DOTMARKER',\n '$R13I': 'P3,P5',\n 'GTI$R13DEF': '1.08889,0.00000',\n 'GTI$R14S': 'Plot 3: Quadrant Marker Y Axis',\n 'GTI$R14COL': '000000000000',\n 'GTI$R14TYP': 'DOTMARKER',\n '$R14I': 'P5,P3',\n 'GTI$R14DEF': '1.20930,0.00004',\n 'GTI$R15S': 'Plot 1: Elliptical Region',\n 'GTI$R15COL': '000000000000',\n 'GTI$R15TYP': 'ELLIPSEREGION',\n '$R15I': 'P1,P2',\n 'GTI$R15DEF': '4.00000,4.00000,1000.00000,600.00000,0.00000',\n 'GTI$R16S': 'Plot 2: Elliptical Region',\n 'GTI$R16COL': '000000000000',\n 'GTI$R16TYP': 'ELLIPSEREGION',\n '$R16I': 'P4,P3',\n 'GTI$R16DEF': '4.00000,4.00000,1000.00000,600.00000,0.00000',\n 'GTI$R17S': 'Plot 3: Elliptical Region',\n 'GTI$R17COL': '000000000000',\n 'GTI$R17TYP': 'ELLIPSEREGION',\n '$R17I': 'P4,P5',\n 'GTI$R17DEF': '4.00000,4.00000,1000.00000,600.00000,0.00000',\n 'GTI$NGATES': '29',\n 'GTI$G1ACT': '0',\n 'GTI$G2ACT': '0',\n 'GTI$G3ACT': '0',\n 'GTI$G4ACT': '1',\n 'GTI$G5ACT': '1',\n 'GTI$G6ACT': '1',\n 'GTI$G7ACT': '0',\n 'GTI$G8ACT': '0',\n 'GTI$G9ACT': '0',\n 'GTI$G10ACT': '0',\n 'GTI$G11ACT': '0',\n 'GTI$G12ACT': '0',\n 'GTI$G13ACT': '0',\n 'GTI$G14ACT': '0',\n 'GTI$G15ACT': '1',\n 'GTI$G16ACT': '1',\n 'GTI$G17ACT': '1',\n 'GTI$G18ACT': '1',\n 'GTI$G19ACT': '1',\n 'GTI$G20ACT': '1',\n 'GTI$G21ACT': '1',\n 'GTI$G22ACT': '1',\n 'GTI$G23ACT': '1',\n 'GTI$G24ACT': '1',\n 'GTI$G25ACT': '1',\n 'GTI$G26ACT': '1',\n 'GTI$G27ACT': '1',\n 'GTI$G28ACT': '1',\n 'GTI$G29ACT': '1',\n 'GTI$G1S': 'Plot 1: Rectangular Region',\n 'GTI$G1COL': '000000000000',\n 'GTI$G1DEF': 'R0',\n 'GTI$G2S': 'Plot 1: Histogram',\n 'GTI$G2COL': '000000000000',\n 'GTI$G2DEF': 'R1',\n 'GTI$G3S': 'Plot 2: Rectangular Region',\n 'GTI$G3COL': '000000000000',\n 'GTI$G3DEF': 'R2',\n 'GTI$G4S': 'Plot 2: Histogram Marker 1',\n 'GTI$G4COL': '000000000000',\n 'GTI$G4DEF': 'R3 AND (NOT R4) AND (NOT R5)',\n 'GTI$G5S': 'Plot 2: Histogram Marker 2',\n 'GTI$G5COL': '000000000000',\n 'GTI$G5DEF': 'R4 AND (NOT R5)',\n 'GTI$G6S': 'Plot 2: Histogram Marker 3',\n 'GTI$G6COL': '000000000000',\n 'GTI$G6DEF': 'R5',\n 'GTI$G7S': 'Plot 2: Quad Lower Left',\n 'GTI$G7COL': '000000000000',\n 'GTI$G7DEF': '(NOT R6) AND (NOT R7)',\n 'GTI$G8S': 'Plot 2: Quad Lower Right',\n 'GTI$G8COL': '000000000000',\n 'GTI$G8DEF': 'R6 AND (NOT R7)',\n 'GTI$G9S': 'Plot 2: Quad Upper Left',\n 'GTI$G9COL': '000000000000',\n 'GTI$G9DEF': '(NOT R6) AND R7',\n 'GTI$G10S': 'Plot 2: Quad Upper Right',\n 'GTI$G10COL': '000000000000',\n 'GTI$G10DEF': 'R6 AND R7',\n 'GTI$G11S': 'Plot 3: Rectangular Region',\n 'GTI$G11COL': '000000000000',\n 'GTI$G11DEF': 'R8',\n 'GTI$G12S': 'Plot 3: Histogram Marker 1',\n 'GTI$G12COL': '000000000000',\n 'GTI$G12DEF': 'R9',\n 'GTI$G13S': 'Plot 3: Histogram Marker 2',\n 'GTI$G13COL': '000000000000',\n 'GTI$G13DEF': 'R10',\n 'GTI$G14S': 'Plot 3: Histogram Marker 3',\n 'GTI$G14COL': '000000000000',\n 'GTI$G14DEF': 'R11',\n 'GTI$G15S': 'Plot 3: Quad Lower Left',\n 'GTI$G15COL': '000000000000',\n 'GTI$G15DEF': '(NOT R12) AND (NOT R13)',\n 'GTI$G16S': 'Plot 3: Quad Lower Right',\n 'GTI$G16COL': '000000000000',\n 'GTI$G16DEF': 'R12 AND (NOT R13)',\n 'GTI$G17S': 'Plot 3: Quad Upper Left',\n 'GTI$G17COL': '000000000000',\n 'GTI$G17DEF': '(NOT R12) AND R13',\n 'GTI$G18S': 'Plot 3: Quad Upper Right',\n 'GTI$G18COL': '000000000000',\n 'GTI$G18DEF': 'R12 AND R13',\n 'GTI$G19S': 'Plot 1: Gating Condition',\n 'GTI$G19COL': '000000000000',\n 'GTI$G19DEF': 'TRUE',\n 'GTI$G20S': 'Plot 2: Gating Condition',\n 'GTI$G20COL': '000000000000',\n 'GTI$G20DEF': 'TRUE',\n 'GTI$G21S': 'Plot 3: Gating Condition',\n 'GTI$G21COL': '000000000000',\n 'GTI$G21DEF': 'TRUE',\n 'GTI$G22S': 'Plot2: Gated Stat Computation 1',\n 'GTI$G22COL': '000000000000',\n 'GTI$G22DEF': 'R3 AND (NOT R4) AND (NOT R5)',\n 'GTI$G23S': 'Plot2: Gated Stat Computation 2',\n 'GTI$G23COL': '000000000000',\n 'GTI$G23DEF': 'R4 AND (NOT R5)',\n 'GTI$G24S': 'Plot2: Gated Stat Computation 3',\n 'GTI$G24COL': '000000000000',\n 'GTI$G24DEF': 'R5',\n 'GTI$G25S': 'Plot2: Gated Stat Computation 4',\n 'GTI$G25COL': '000000000000',\n 'GTI$G25DEF': 'FALSE',\n 'GTI$G26S': 'Plot3: Gated Stat Computation 1',\n 'GTI$G26COL': '000000000000',\n 'GTI$G26DEF': '(NOT R12) AND (NOT R13)',\n 'GTI$G27S': 'Plot3: Gated Stat Computation 2',\n 'GTI$G27COL': '000000000000',\n 'GTI$G27DEF': 'R12 AND (NOT R13)',\n 'GTI$G28S': 'Plot3: Gated Stat Computation 3',\n 'GTI$G28COL': '000000000000',\n 'GTI$G28DEF': '(NOT R12) AND R13',\n 'GTI$G29S': 'Plot3: Gated Stat Computation 4',\n 'GTI$G29COL': '000000000000',\n 'GTI$G29DEF': 'R12 AND R13',\n '$BYTEORD': '1,2,3,4',\n '$DATATYPE': 'F',\n '$MODE': 'L',\n '$PAR': 11,\n '$DATE': '01-JUN-2023 ',\n '$ETIM': '14:01:54 ',\n '$TOT': 2000,\n '$BEGINDATA': '     7691',\n '$ENDDATA': '    95690',\n '_channels_':                $PnG $PnV  $PnB  $PnR                            $PnS  \\\n Channel Number                                                         \n 1                 4    0    32  4096      Forward Scatter (FSC-HLin)   \n 2                 1  250    32  4096         Side Scatter (SSC-HLin)   \n 3                 1  831    32  4096   Green Fluorescence (GRN-HLog)   \n 4                 1  341    32  4096  Yellow Fluorescence (YLW-HLog)   \n 5                 1  533    32  4096     Red Fluorescence (RED-HLog)   \n 6                 4    0    32  4096      Forward Scatter (FSC-HLog)   \n 7                 1  250    32  4096         Side Scatter (SSC-HLog)   \n 8                 1  831    32  4096   Green Fluorescence (GRN-HLin)   \n 9                 1  341    32  4096  Yellow Fluorescence (YLW-HLin)   \n 10                1  533    32  4096     Red Fluorescence (RED-HLin)   \n 11                1    0    32  4096                            Time   \n \n                     $PnN        $PnE  \n Channel Number                        \n 1               FSC-HLin  [0.0, 0.0]  \n 2               SSC-HLin  [0.0, 0.0]  \n 3               GRN-HLog  [4.0, 1.0]  \n 4               YLW-HLog  [4.0, 1.0]  \n 5               RED-HLog  [4.0, 1.0]  \n 6               FSC-HLog  [4.0, 1.0]  \n 7               SSC-HLog  [4.0, 1.0]  \n 8               GRN-HLin  [0.0, 0.0]  \n 9               YLW-HLin  [0.0, 0.0]  \n 10              RED-HLin  [0.0, 0.0]  \n 11                  TIME  [0.0, 0.0]  ,\n '_channel_names_': ('Forward Scatter (FSC-HLin)',\n  'Side Scatter (SSC-HLin)',\n  'Green Fluorescence (GRN-HLog)',\n  'Yellow Fluorescence (YLW-HLog)',\n  'Red Fluorescence (RED-HLog)',\n  'Forward Scatter (FSC-HLog)',\n  'Side Scatter (SSC-HLog)',\n  'Green Fluorescence (GRN-HLin)',\n  'Yellow Fluorescence (YLW-HLin)',\n  'Red Fluorescence (RED-HLin)',\n  'Time')}"
     },
     "execution_count": 4,
     "metadata": {},
     "output_type": "execute_result"
    }
   ],
   "source": [
    "meta\n"
   ],
   "metadata": {
    "collapsed": false
   }
  },
  {
   "cell_type": "code",
   "execution_count": 5,
   "outputs": [
    {
     "data": {
      "text/plain": "      Forward Scatter (FSC-HLin)  Side Scatter (SSC-HLin)  \\\n0                     365.473450                46.904564   \n1                     527.859314                62.449699   \n2                     149.122833                16.725777   \n3                     365.560150                33.727188   \n4                     172.212219                28.105751   \n...                          ...                      ...   \n1995                   26.379951                 1.505867   \n1996                  148.867950                35.789139   \n1997                  141.072067                17.179146   \n1998                   31.634483                 2.711456   \n1999                   31.674622                 1.416504   \n\n      Green Fluorescence (GRN-HLog)  Yellow Fluorescence (YLW-HLog)  \\\n0                          1.560527                        0.000000   \n1                          0.749560                        0.102562   \n2                          0.693050                        0.091410   \n3                          0.576763                        0.088284   \n4                          0.586479                        0.091017   \n...                             ...                             ...   \n1995                       0.503941                        0.130733   \n1996                       0.368892                        0.093733   \n1997                       1.275612                        0.074522   \n1998                       0.818489                        0.151176   \n1999                       0.504798                        0.093733   \n\n      Red Fluorescence (RED-HLog)  Forward Scatter (FSC-HLog)  \\\n0                        1.796208                    2.562856   \n1                        0.684054                    2.722518   \n2                        1.764045                    2.173544   \n3                        0.515770                    2.562959   \n4                        0.000000                    2.236064   \n...                           ...                         ...   \n1995                     0.307855                    1.421274   \n1996                     0.400365                    2.172801   \n1997                     1.321043                    2.149441   \n1998                     0.507030                    1.500161   \n1999                     0.228087                    1.500711   \n\n      Side Scatter (SSC-HLog)  Green Fluorescence (GRN-HLin)  \\\n0                    1.671215                      36.351891   \n1                    1.795530                       5.617714   \n2                    1.223386                       4.932304   \n3                    1.527980                       3.773659   \n4                    1.448795                       3.859039   \n...                       ...                            ...   \n1995                 0.177787                       3.191101   \n1996                 1.553751                       2.338257   \n1997                 1.235002                      18.863045   \n1998                 0.433203                       6.583992   \n1999                 0.151218                       3.197411   \n\n      Yellow Fluorescence (YLW-HLin)  Red Fluorescence (RED-HLin)      Time  \n0                           1.000000                    62.547241     973.0  \n1                           1.266373                     4.831184    1083.0  \n2                           1.234268                    58.082489    1759.0  \n3                           1.225418                     3.279213    4060.0  \n4                           1.233154                     1.000000    4116.0  \n...                              ...                          ...       ...  \n1995                        1.351242                     2.031677  947860.0  \n1996                        1.240891                     2.514000  951060.0  \n1997                        1.187195                    20.943222  951116.0  \n1998                        1.416367                     3.213882  951123.0  \n1999                        1.240891                     1.690781  951930.0  \n\n[2000 rows x 11 columns]",
      "text/html": "<div>\n<style scoped>\n    .dataframe tbody tr th:only-of-type {\n        vertical-align: middle;\n    }\n\n    .dataframe tbody tr th {\n        vertical-align: top;\n    }\n\n    .dataframe thead th {\n        text-align: right;\n    }\n</style>\n<table border=\"1\" class=\"dataframe\">\n  <thead>\n    <tr style=\"text-align: right;\">\n      <th></th>\n      <th>Forward Scatter (FSC-HLin)</th>\n      <th>Side Scatter (SSC-HLin)</th>\n      <th>Green Fluorescence (GRN-HLog)</th>\n      <th>Yellow Fluorescence (YLW-HLog)</th>\n      <th>Red Fluorescence (RED-HLog)</th>\n      <th>Forward Scatter (FSC-HLog)</th>\n      <th>Side Scatter (SSC-HLog)</th>\n      <th>Green Fluorescence (GRN-HLin)</th>\n      <th>Yellow Fluorescence (YLW-HLin)</th>\n      <th>Red Fluorescence (RED-HLin)</th>\n      <th>Time</th>\n    </tr>\n  </thead>\n  <tbody>\n    <tr>\n      <th>0</th>\n      <td>365.473450</td>\n      <td>46.904564</td>\n      <td>1.560527</td>\n      <td>0.000000</td>\n      <td>1.796208</td>\n      <td>2.562856</td>\n      <td>1.671215</td>\n      <td>36.351891</td>\n      <td>1.000000</td>\n      <td>62.547241</td>\n      <td>973.0</td>\n    </tr>\n    <tr>\n      <th>1</th>\n      <td>527.859314</td>\n      <td>62.449699</td>\n      <td>0.749560</td>\n      <td>0.102562</td>\n      <td>0.684054</td>\n      <td>2.722518</td>\n      <td>1.795530</td>\n      <td>5.617714</td>\n      <td>1.266373</td>\n      <td>4.831184</td>\n      <td>1083.0</td>\n    </tr>\n    <tr>\n      <th>2</th>\n      <td>149.122833</td>\n      <td>16.725777</td>\n      <td>0.693050</td>\n      <td>0.091410</td>\n      <td>1.764045</td>\n      <td>2.173544</td>\n      <td>1.223386</td>\n      <td>4.932304</td>\n      <td>1.234268</td>\n      <td>58.082489</td>\n      <td>1759.0</td>\n    </tr>\n    <tr>\n      <th>3</th>\n      <td>365.560150</td>\n      <td>33.727188</td>\n      <td>0.576763</td>\n      <td>0.088284</td>\n      <td>0.515770</td>\n      <td>2.562959</td>\n      <td>1.527980</td>\n      <td>3.773659</td>\n      <td>1.225418</td>\n      <td>3.279213</td>\n      <td>4060.0</td>\n    </tr>\n    <tr>\n      <th>4</th>\n      <td>172.212219</td>\n      <td>28.105751</td>\n      <td>0.586479</td>\n      <td>0.091017</td>\n      <td>0.000000</td>\n      <td>2.236064</td>\n      <td>1.448795</td>\n      <td>3.859039</td>\n      <td>1.233154</td>\n      <td>1.000000</td>\n      <td>4116.0</td>\n    </tr>\n    <tr>\n      <th>...</th>\n      <td>...</td>\n      <td>...</td>\n      <td>...</td>\n      <td>...</td>\n      <td>...</td>\n      <td>...</td>\n      <td>...</td>\n      <td>...</td>\n      <td>...</td>\n      <td>...</td>\n      <td>...</td>\n    </tr>\n    <tr>\n      <th>1995</th>\n      <td>26.379951</td>\n      <td>1.505867</td>\n      <td>0.503941</td>\n      <td>0.130733</td>\n      <td>0.307855</td>\n      <td>1.421274</td>\n      <td>0.177787</td>\n      <td>3.191101</td>\n      <td>1.351242</td>\n      <td>2.031677</td>\n      <td>947860.0</td>\n    </tr>\n    <tr>\n      <th>1996</th>\n      <td>148.867950</td>\n      <td>35.789139</td>\n      <td>0.368892</td>\n      <td>0.093733</td>\n      <td>0.400365</td>\n      <td>2.172801</td>\n      <td>1.553751</td>\n      <td>2.338257</td>\n      <td>1.240891</td>\n      <td>2.514000</td>\n      <td>951060.0</td>\n    </tr>\n    <tr>\n      <th>1997</th>\n      <td>141.072067</td>\n      <td>17.179146</td>\n      <td>1.275612</td>\n      <td>0.074522</td>\n      <td>1.321043</td>\n      <td>2.149441</td>\n      <td>1.235002</td>\n      <td>18.863045</td>\n      <td>1.187195</td>\n      <td>20.943222</td>\n      <td>951116.0</td>\n    </tr>\n    <tr>\n      <th>1998</th>\n      <td>31.634483</td>\n      <td>2.711456</td>\n      <td>0.818489</td>\n      <td>0.151176</td>\n      <td>0.507030</td>\n      <td>1.500161</td>\n      <td>0.433203</td>\n      <td>6.583992</td>\n      <td>1.416367</td>\n      <td>3.213882</td>\n      <td>951123.0</td>\n    </tr>\n    <tr>\n      <th>1999</th>\n      <td>31.674622</td>\n      <td>1.416504</td>\n      <td>0.504798</td>\n      <td>0.093733</td>\n      <td>0.228087</td>\n      <td>1.500711</td>\n      <td>0.151218</td>\n      <td>3.197411</td>\n      <td>1.240891</td>\n      <td>1.690781</td>\n      <td>951930.0</td>\n    </tr>\n  </tbody>\n</table>\n<p>2000 rows × 11 columns</p>\n</div>"
     },
     "execution_count": 5,
     "metadata": {},
     "output_type": "execute_result"
    }
   ],
   "source": [
    "data"
   ],
   "metadata": {
    "collapsed": false
   }
  },
  {
   "cell_type": "code",
   "execution_count": 7,
   "outputs": [
    {
     "data": {
      "text/plain": "Forward Scatter (FSC-HLin)           145.915283\nSide Scatter (SSC-HLin)               13.880985\nGreen Fluorescence (GRN-HLog)          0.691313\nYellow Fluorescence (YLW-HLog)         0.096813\nRed Fluorescence (RED-HLog)            0.718232\nForward Scatter (FSC-HLog)             2.037436\nSide Scatter (SSC-HLog)                0.911581\nGreen Fluorescence (GRN-HLin)          7.820933\nYellow Fluorescence (YLW-HLin)         1.253635\nRed Fluorescence (RED-HLin)           13.959759\nTime                              468549.718750\ndtype: float32"
     },
     "execution_count": 7,
     "metadata": {},
     "output_type": "execute_result"
    }
   ],
   "source": [
    "data.mean(axis=0)"
   ],
   "metadata": {
    "collapsed": false
   }
  },
  {
   "cell_type": "code",
   "execution_count": null,
   "outputs": [],
   "source": [],
   "metadata": {
    "collapsed": false
   }
  }
 ],
 "metadata": {
  "kernelspec": {
   "display_name": "Python 3",
   "language": "python",
   "name": "python3"
  },
  "language_info": {
   "codemirror_mode": {
    "name": "ipython",
    "version": 2
   },
   "file_extension": ".py",
   "mimetype": "text/x-python",
   "name": "python",
   "nbconvert_exporter": "python",
   "pygments_lexer": "ipython2",
   "version": "2.7.6"
  }
 },
 "nbformat": 4,
 "nbformat_minor": 0
}
