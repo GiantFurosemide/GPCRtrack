{
 "cells": [
  {
   "cell_type": "code",
   "execution_count": null,
   "outputs": [],
   "source": [
    "import fcsparser"
   ],
   "metadata": {
    "collapsed": false
   }
  },
  {
   "cell_type": "code",
   "execution_count": 20,
   "outputs": [],
   "source": [
    "#fcs_path = 'data/exp_06012023-h2.EP5.FCS'\n",
    "#fcs_path ='data/exp_06012023-s1.PRO.FCS'\n",
    "fcs_path ='data/inf_06022023-1.EP5.FCS'"
   ],
   "metadata": {
    "collapsed": false
   }
  },
  {
   "cell_type": "code",
   "execution_count": 21,
   "outputs": [
    {
     "ename": "FileNotFoundError",
     "evalue": "[Errno 2] No such file or directory: 'data/inf_06022023-1.EP5.FCS'",
     "output_type": "error",
     "traceback": [
      "\u001B[0;31m---------------------------------------------------------------------------\u001B[0m",
      "\u001B[0;31mFileNotFoundError\u001B[0m                         Traceback (most recent call last)",
      "Cell \u001B[0;32mIn[21], line 1\u001B[0m\n\u001B[0;32m----> 1\u001B[0m meta, data \u001B[38;5;241m=\u001B[39m \u001B[43mfcsparser\u001B[49m\u001B[38;5;241;43m.\u001B[39;49m\u001B[43mparse\u001B[49m\u001B[43m(\u001B[49m\u001B[43mfcs_path\u001B[49m\u001B[43m,\u001B[49m\u001B[43m \u001B[49m\u001B[43mreformat_meta\u001B[49m\u001B[38;5;241;43m=\u001B[39;49m\u001B[38;5;28;43;01mTrue\u001B[39;49;00m\u001B[43m)\u001B[49m\n",
      "File \u001B[0;32m~/opt/anaconda3/envs/GPCRtrack/lib/python3.10/site-packages/fcsparser/api.py:732\u001B[0m, in \u001B[0;36mparse\u001B[0;34m(path, meta_data_only, compensate, channel_naming, reformat_meta, data_set, dtype, encoding)\u001B[0m\n\u001B[1;32m    726\u001B[0m     \u001B[38;5;28;01mraise\u001B[39;00m ParserFeatureNotImplementedError(\n\u001B[1;32m    727\u001B[0m         \u001B[38;5;124m\"\u001B[39m\u001B[38;5;124mCompensation has not been implemented yet.\u001B[39m\u001B[38;5;124m\"\u001B[39m\n\u001B[1;32m    728\u001B[0m     )\n\u001B[1;32m    730\u001B[0m read_data \u001B[38;5;241m=\u001B[39m \u001B[38;5;129;01mnot\u001B[39;00m meta_data_only\n\u001B[0;32m--> 732\u001B[0m fcs_parser \u001B[38;5;241m=\u001B[39m \u001B[43mFCSParser\u001B[49m\u001B[43m(\u001B[49m\n\u001B[1;32m    733\u001B[0m \u001B[43m    \u001B[49m\u001B[43mpath\u001B[49m\u001B[43m,\u001B[49m\n\u001B[1;32m    734\u001B[0m \u001B[43m    \u001B[49m\u001B[43mread_data\u001B[49m\u001B[38;5;241;43m=\u001B[39;49m\u001B[43mread_data\u001B[49m\u001B[43m,\u001B[49m\n\u001B[1;32m    735\u001B[0m \u001B[43m    \u001B[49m\u001B[43mchannel_naming\u001B[49m\u001B[38;5;241;43m=\u001B[39;49m\u001B[43mchannel_naming\u001B[49m\u001B[43m,\u001B[49m\n\u001B[1;32m    736\u001B[0m \u001B[43m    \u001B[49m\u001B[43mdata_set\u001B[49m\u001B[38;5;241;43m=\u001B[39;49m\u001B[43mdata_set\u001B[49m\u001B[43m,\u001B[49m\n\u001B[1;32m    737\u001B[0m \u001B[43m    \u001B[49m\u001B[43mencoding\u001B[49m\u001B[38;5;241;43m=\u001B[39;49m\u001B[43mencoding\u001B[49m\u001B[43m,\u001B[49m\n\u001B[1;32m    738\u001B[0m \u001B[43m\u001B[49m\u001B[43m)\u001B[49m\n\u001B[1;32m    740\u001B[0m \u001B[38;5;28;01mif\u001B[39;00m reformat_meta:\n\u001B[1;32m    741\u001B[0m     fcs_parser\u001B[38;5;241m.\u001B[39mreformat_meta()\n",
      "File \u001B[0;32m~/opt/anaconda3/envs/GPCRtrack/lib/python3.10/site-packages/fcsparser/api.py:191\u001B[0m, in \u001B[0;36mFCSParser.__init__\u001B[0;34m(self, path, read_data, channel_naming, data_set, encoding)\u001B[0m\n\u001B[1;32m    188\u001B[0m \u001B[38;5;28mself\u001B[39m\u001B[38;5;241m.\u001B[39mpath \u001B[38;5;241m=\u001B[39m path\n\u001B[1;32m    190\u001B[0m \u001B[38;5;28;01mif\u001B[39;00m path:\n\u001B[0;32m--> 191\u001B[0m     \u001B[38;5;28;01mwith\u001B[39;00m \u001B[38;5;28;43mopen\u001B[39;49m\u001B[43m(\u001B[49m\u001B[43mpath\u001B[49m\u001B[43m,\u001B[49m\u001B[43m \u001B[49m\u001B[38;5;124;43m\"\u001B[39;49m\u001B[38;5;124;43mrb\u001B[39;49m\u001B[38;5;124;43m\"\u001B[39;49m\u001B[43m)\u001B[49m \u001B[38;5;28;01mas\u001B[39;00m f:\n\u001B[1;32m    192\u001B[0m         \u001B[38;5;28mself\u001B[39m\u001B[38;5;241m.\u001B[39mload_file(f, data_set\u001B[38;5;241m=\u001B[39mdata_set, read_data\u001B[38;5;241m=\u001B[39mread_data)\n",
      "\u001B[0;31mFileNotFoundError\u001B[0m: [Errno 2] No such file or directory: 'data/inf_06022023-1.EP5.FCS'"
     ]
    }
   ],
   "source": [
    "meta, data = fcsparser.parse(fcs_path, reformat_meta=True)"
   ],
   "metadata": {
    "collapsed": false
   }
  },
  {
   "cell_type": "code",
   "execution_count": null,
   "outputs": [],
   "source": [
    "meta\n"
   ],
   "metadata": {
    "collapsed": false
   }
  },
  {
   "cell_type": "code",
   "execution_count": 22,
   "outputs": [
    {
     "data": {
      "text/plain": "      Forward Scatter (FSC-HLin)  Side Scatter (SSC-HLin)  \\\n0                    1699.006226               423.642334   \n1                    1764.754395               534.633972   \n2                    1714.635498               445.488251   \n3                    1287.925049               566.030457   \n4                     135.531555                13.210199   \n...                          ...                      ...   \n1995                 1483.111084               705.073364   \n1996                 1760.455933              1849.622559   \n1997                 1658.946777               425.311859   \n1998                 2214.274658               562.264648   \n1999                 1570.870117               485.242859   \n\n      Green Fluorescence (GRN-HLog)  Yellow Fluorescence (YEL-HLog)  \\\n0                          1.791166                        1.767603   \n1                          1.075117                        1.198556   \n2                          1.382254                        1.457546   \n3                          1.410135                        1.509883   \n4                          0.661165                        0.505228   \n...                             ...                             ...   \n1995                       1.578290                        1.677656   \n1996                       1.550168                        1.756294   \n1997                       1.286286                        1.360065   \n1998                       1.735165                        1.729647   \n1999                       1.506174                        1.344191   \n\n      Red Fluorescence (RED-HLog)  Near IR (NIR-HLog)  \\\n0                        1.432697                 0.0   \n1                        1.396811                 0.0   \n2                        1.169531                 0.0   \n3                        1.343294                 0.0   \n4                        1.102951                 0.0   \n...                           ...                 ...   \n1995                     1.456491                 0.0   \n1996                     1.551881                 0.0   \n1997                     1.469784                 0.0   \n1998                     1.753647                 0.0   \n1999                     1.601703                 0.0   \n\n      Red2 Fluorescence (RED2-HLog)  Near IR2 (NIR2-HLog)  \\\n0                               0.0                   0.0   \n1                               0.0                   0.0   \n2                               0.0                   0.0   \n3                               0.0                   0.0   \n4                               0.0                   0.0   \n...                             ...                   ...   \n1995                            0.0                   0.0   \n1996                            0.0                   0.0   \n1997                            0.0                   0.0   \n1998                            0.0                   0.0   \n1999                            0.0                   0.0   \n\n      Forward Scatter (FSC-HLog)  Side Scatter (SSC-HLog)  \\\n0                       3.230195                 2.626999   \n1                       3.246684                 2.728057   \n2                       3.234172                 2.648836   \n3                       3.109891                 2.752840   \n4                       2.132041                 1.120909   \n...                          ...                      ...   \n1995                    3.171174                 2.848234   \n1996                    3.245625                 3.267083   \n1997                    3.219832                 2.628707   \n1998                    3.345232                 2.749941   \n1999                    3.196140                 2.685959   \n\n      Green Fluorescence (GRN-HLin)  Yellow Fluorescence (YEL-HLin)  \\\n0                         61.825310                       58.560310   \n1                         11.888226                       15.796333   \n2                         24.113138                       28.677832   \n3                         25.711969                       32.350628   \n4                          4.583159                        3.200576   \n...                             ...                             ...   \n1995                      37.869526                       47.605347   \n1996                      35.495064                       57.054970   \n1997                      19.332399                       22.912104   \n1998                      54.345642                       53.659569   \n1999                      32.075569                       22.089741   \n\n      Red Fluorescence (RED-HLin)  Near IR (NIR-HLin)  \\\n0                       27.082994                 1.0   \n1                       24.935083                 1.0   \n2                       14.775112                 1.0   \n3                       22.044163                 1.0   \n4                       12.675094                 1.0   \n...                           ...                 ...   \n1995                    28.608257                 1.0   \n1996                    35.635311                 1.0   \n1997                    29.497400                 1.0   \n1998                    56.708321                 1.0   \n1999                    39.967148                 1.0   \n\n      Red2 Fluorescence (RED2-HLin)  Near IR2 (NIR2-HLin)           Time  \\\n0                               1.0                   1.0     111.999992   \n1                               1.0                   1.0     190.999985   \n2                               1.0                   1.0    1983.000000   \n3                               1.0                   1.0    2037.999878   \n4                               1.0                   1.0    2728.000000   \n...                             ...                   ...            ...   \n1995                            1.0                   1.0  842653.000000   \n1996                            1.0                   1.0  842682.062500   \n1997                            1.0                   1.0  842967.000000   \n1998                            1.0                   1.0  843002.000000   \n1999                            1.0                   1.0  844250.000000   \n\n      Side Scatter Area (SSC-A)  Side Scatter Area (SSC-ALog)  \\\n0                    450.287933                      2.653490   \n1                    562.613525                      2.750210   \n2                    461.031738                      2.663731   \n3                    614.948303                      2.788839   \n4                     13.136086                      1.118466   \n...                         ...                           ...   \n1995                 795.074829                      2.900408   \n1996                1915.667725                      3.282320   \n1997                 503.938629                      2.702378   \n1998                 585.253479                      2.767344   \n1999                 490.013641                      2.690208   \n\n      Side Scatter Width (SSC-W)  \n0                    3800.208252  \n1                    3772.073730  \n2                    3673.652344  \n3                    3816.309570  \n4                    3307.566162  \n...                          ...  \n1995                 4226.547852  \n1996                 3652.748291  \n1997                 4662.323730  \n1998                 3730.662598  \n1999                 3408.333984  \n\n[2000 rows x 20 columns]",
      "text/html": "<div>\n<style scoped>\n    .dataframe tbody tr th:only-of-type {\n        vertical-align: middle;\n    }\n\n    .dataframe tbody tr th {\n        vertical-align: top;\n    }\n\n    .dataframe thead th {\n        text-align: right;\n    }\n</style>\n<table border=\"1\" class=\"dataframe\">\n  <thead>\n    <tr style=\"text-align: right;\">\n      <th></th>\n      <th>Forward Scatter (FSC-HLin)</th>\n      <th>Side Scatter (SSC-HLin)</th>\n      <th>Green Fluorescence (GRN-HLog)</th>\n      <th>Yellow Fluorescence (YEL-HLog)</th>\n      <th>Red Fluorescence (RED-HLog)</th>\n      <th>Near IR (NIR-HLog)</th>\n      <th>Red2 Fluorescence (RED2-HLog)</th>\n      <th>Near IR2 (NIR2-HLog)</th>\n      <th>Forward Scatter (FSC-HLog)</th>\n      <th>Side Scatter (SSC-HLog)</th>\n      <th>Green Fluorescence (GRN-HLin)</th>\n      <th>Yellow Fluorescence (YEL-HLin)</th>\n      <th>Red Fluorescence (RED-HLin)</th>\n      <th>Near IR (NIR-HLin)</th>\n      <th>Red2 Fluorescence (RED2-HLin)</th>\n      <th>Near IR2 (NIR2-HLin)</th>\n      <th>Time</th>\n      <th>Side Scatter Area (SSC-A)</th>\n      <th>Side Scatter Area (SSC-ALog)</th>\n      <th>Side Scatter Width (SSC-W)</th>\n    </tr>\n  </thead>\n  <tbody>\n    <tr>\n      <th>0</th>\n      <td>1699.006226</td>\n      <td>423.642334</td>\n      <td>1.791166</td>\n      <td>1.767603</td>\n      <td>1.432697</td>\n      <td>0.0</td>\n      <td>0.0</td>\n      <td>0.0</td>\n      <td>3.230195</td>\n      <td>2.626999</td>\n      <td>61.825310</td>\n      <td>58.560310</td>\n      <td>27.082994</td>\n      <td>1.0</td>\n      <td>1.0</td>\n      <td>1.0</td>\n      <td>111.999992</td>\n      <td>450.287933</td>\n      <td>2.653490</td>\n      <td>3800.208252</td>\n    </tr>\n    <tr>\n      <th>1</th>\n      <td>1764.754395</td>\n      <td>534.633972</td>\n      <td>1.075117</td>\n      <td>1.198556</td>\n      <td>1.396811</td>\n      <td>0.0</td>\n      <td>0.0</td>\n      <td>0.0</td>\n      <td>3.246684</td>\n      <td>2.728057</td>\n      <td>11.888226</td>\n      <td>15.796333</td>\n      <td>24.935083</td>\n      <td>1.0</td>\n      <td>1.0</td>\n      <td>1.0</td>\n      <td>190.999985</td>\n      <td>562.613525</td>\n      <td>2.750210</td>\n      <td>3772.073730</td>\n    </tr>\n    <tr>\n      <th>2</th>\n      <td>1714.635498</td>\n      <td>445.488251</td>\n      <td>1.382254</td>\n      <td>1.457546</td>\n      <td>1.169531</td>\n      <td>0.0</td>\n      <td>0.0</td>\n      <td>0.0</td>\n      <td>3.234172</td>\n      <td>2.648836</td>\n      <td>24.113138</td>\n      <td>28.677832</td>\n      <td>14.775112</td>\n      <td>1.0</td>\n      <td>1.0</td>\n      <td>1.0</td>\n      <td>1983.000000</td>\n      <td>461.031738</td>\n      <td>2.663731</td>\n      <td>3673.652344</td>\n    </tr>\n    <tr>\n      <th>3</th>\n      <td>1287.925049</td>\n      <td>566.030457</td>\n      <td>1.410135</td>\n      <td>1.509883</td>\n      <td>1.343294</td>\n      <td>0.0</td>\n      <td>0.0</td>\n      <td>0.0</td>\n      <td>3.109891</td>\n      <td>2.752840</td>\n      <td>25.711969</td>\n      <td>32.350628</td>\n      <td>22.044163</td>\n      <td>1.0</td>\n      <td>1.0</td>\n      <td>1.0</td>\n      <td>2037.999878</td>\n      <td>614.948303</td>\n      <td>2.788839</td>\n      <td>3816.309570</td>\n    </tr>\n    <tr>\n      <th>4</th>\n      <td>135.531555</td>\n      <td>13.210199</td>\n      <td>0.661165</td>\n      <td>0.505228</td>\n      <td>1.102951</td>\n      <td>0.0</td>\n      <td>0.0</td>\n      <td>0.0</td>\n      <td>2.132041</td>\n      <td>1.120909</td>\n      <td>4.583159</td>\n      <td>3.200576</td>\n      <td>12.675094</td>\n      <td>1.0</td>\n      <td>1.0</td>\n      <td>1.0</td>\n      <td>2728.000000</td>\n      <td>13.136086</td>\n      <td>1.118466</td>\n      <td>3307.566162</td>\n    </tr>\n    <tr>\n      <th>...</th>\n      <td>...</td>\n      <td>...</td>\n      <td>...</td>\n      <td>...</td>\n      <td>...</td>\n      <td>...</td>\n      <td>...</td>\n      <td>...</td>\n      <td>...</td>\n      <td>...</td>\n      <td>...</td>\n      <td>...</td>\n      <td>...</td>\n      <td>...</td>\n      <td>...</td>\n      <td>...</td>\n      <td>...</td>\n      <td>...</td>\n      <td>...</td>\n      <td>...</td>\n    </tr>\n    <tr>\n      <th>1995</th>\n      <td>1483.111084</td>\n      <td>705.073364</td>\n      <td>1.578290</td>\n      <td>1.677656</td>\n      <td>1.456491</td>\n      <td>0.0</td>\n      <td>0.0</td>\n      <td>0.0</td>\n      <td>3.171174</td>\n      <td>2.848234</td>\n      <td>37.869526</td>\n      <td>47.605347</td>\n      <td>28.608257</td>\n      <td>1.0</td>\n      <td>1.0</td>\n      <td>1.0</td>\n      <td>842653.000000</td>\n      <td>795.074829</td>\n      <td>2.900408</td>\n      <td>4226.547852</td>\n    </tr>\n    <tr>\n      <th>1996</th>\n      <td>1760.455933</td>\n      <td>1849.622559</td>\n      <td>1.550168</td>\n      <td>1.756294</td>\n      <td>1.551881</td>\n      <td>0.0</td>\n      <td>0.0</td>\n      <td>0.0</td>\n      <td>3.245625</td>\n      <td>3.267083</td>\n      <td>35.495064</td>\n      <td>57.054970</td>\n      <td>35.635311</td>\n      <td>1.0</td>\n      <td>1.0</td>\n      <td>1.0</td>\n      <td>842682.062500</td>\n      <td>1915.667725</td>\n      <td>3.282320</td>\n      <td>3652.748291</td>\n    </tr>\n    <tr>\n      <th>1997</th>\n      <td>1658.946777</td>\n      <td>425.311859</td>\n      <td>1.286286</td>\n      <td>1.360065</td>\n      <td>1.469784</td>\n      <td>0.0</td>\n      <td>0.0</td>\n      <td>0.0</td>\n      <td>3.219832</td>\n      <td>2.628707</td>\n      <td>19.332399</td>\n      <td>22.912104</td>\n      <td>29.497400</td>\n      <td>1.0</td>\n      <td>1.0</td>\n      <td>1.0</td>\n      <td>842967.000000</td>\n      <td>503.938629</td>\n      <td>2.702378</td>\n      <td>4662.323730</td>\n    </tr>\n    <tr>\n      <th>1998</th>\n      <td>2214.274658</td>\n      <td>562.264648</td>\n      <td>1.735165</td>\n      <td>1.729647</td>\n      <td>1.753647</td>\n      <td>0.0</td>\n      <td>0.0</td>\n      <td>0.0</td>\n      <td>3.345232</td>\n      <td>2.749941</td>\n      <td>54.345642</td>\n      <td>53.659569</td>\n      <td>56.708321</td>\n      <td>1.0</td>\n      <td>1.0</td>\n      <td>1.0</td>\n      <td>843002.000000</td>\n      <td>585.253479</td>\n      <td>2.767344</td>\n      <td>3730.662598</td>\n    </tr>\n    <tr>\n      <th>1999</th>\n      <td>1570.870117</td>\n      <td>485.242859</td>\n      <td>1.506174</td>\n      <td>1.344191</td>\n      <td>1.601703</td>\n      <td>0.0</td>\n      <td>0.0</td>\n      <td>0.0</td>\n      <td>3.196140</td>\n      <td>2.685959</td>\n      <td>32.075569</td>\n      <td>22.089741</td>\n      <td>39.967148</td>\n      <td>1.0</td>\n      <td>1.0</td>\n      <td>1.0</td>\n      <td>844250.000000</td>\n      <td>490.013641</td>\n      <td>2.690208</td>\n      <td>3408.333984</td>\n    </tr>\n  </tbody>\n</table>\n<p>2000 rows × 20 columns</p>\n</div>"
     },
     "execution_count": 22,
     "metadata": {},
     "output_type": "execute_result"
    }
   ],
   "source": [
    "data"
   ],
   "metadata": {
    "collapsed": false
   }
  },
  {
   "cell_type": "code",
   "execution_count": 23,
   "outputs": [
    {
     "data": {
      "text/plain": "Forward Scatter (FSC-HLin)          1577.710693\nSide Scatter (SSC-HLin)              594.962646\nGreen Fluorescence (GRN-HLog)          1.376903\nYellow Fluorescence (YEL-HLog)         1.458933\nRed Fluorescence (RED-HLog)            1.432033\nNear IR (NIR-HLog)                     0.000000\nRed2 Fluorescence (RED2-HLog)          0.000000\nNear IR2 (NIR2-HLog)                   0.000000\nForward Scatter (FSC-HLog)             3.154188\nSide Scatter (SSC-HLog)                2.654855\nGreen Fluorescence (GRN-HLin)         30.395905\nYellow Fluorescence (YEL-HLin)        33.778126\nRed Fluorescence (RED-HLin)           35.888149\nNear IR (NIR-HLin)                     1.000000\nRed2 Fluorescence (RED2-HLin)          1.000000\nNear IR2 (NIR2-HLin)                   1.000000\nTime                              421025.843750\nSide Scatter Area (SSC-A)            687.852600\nSide Scatter Area (SSC-ALog)           2.708950\nSide Scatter Width (SSC-W)          4813.523926\ndtype: float32"
     },
     "execution_count": 23,
     "metadata": {},
     "output_type": "execute_result"
    }
   ],
   "source": [
    "data.mean(axis=0)"
   ],
   "metadata": {
    "collapsed": false
   }
  },
  {
   "cell_type": "code",
   "execution_count": 8,
   "outputs": [],
   "source": [
    "fcs_path = 'data/yicui/inf_06022023-1.EP5.FCS'\n",
    "meta, data = fcsparser.parse(fcs_path, reformat_meta=True)"
   ],
   "metadata": {
    "collapsed": false
   }
  },
  {
   "cell_type": "code",
   "execution_count": 9,
   "outputs": [
    {
     "data": {
      "text/plain": "{'__header__': {'FCS format': b'FCS3.0',\n  'text start': 58,\n  'text end': 7623,\n  'data start': 7624,\n  'data end': 95623,\n  'analysis start': 0,\n  'analysis end': 0},\n 'GTI$BEGINLOG': '   3536464',\n 'GTI$ENDLOG': '   3569986',\n '$BEGINANALYSIS': '0',\n '$ENDANALYSIS': '0',\n '$BEGINSTEXT': '0',\n '$ENDSTEXT': '0',\n '$NEXTDATA': 95624,\n '$SYS': 'Microsoft Windows XP ',\n 'GTI$DataSetName': 'D:\\\\data\\\\expressplus\\\\202306\\\\inf_06022023-1.EP5.FCS',\n '$FIL': 'D:\\\\data\\\\expressplus\\\\202306\\\\inf_06022023-1.EP5.FCS',\n 'GTI$DILUTIONFACTOR': '20.000000',\n 'GTI$ORIGINALVOLUME': '10.000000',\n 'GTI$TOTALNUMREADINGS': '683642',\n 'GTI$PUMPSAMPLESPEED': '5',\n 'GTI$FLOWRATECAL': '0.118000',\n '$CYT': 'Guava PCA(tm), CytoSoft 3.6',\n '$TR': 'FSC-HLin,81',\n 'GTI$SAMPLEID': 'g10320_',\n '$SMNO': '1',\n 'GTI$TERMINATIONCOUNT': ',2000',\n 'GTI$ACCESSRIGHTS': 'Administrator',\n 'GTI$ANALYSISDATE': '02-JUN-2023 ',\n 'GTI$ANALYSISTIME': '10:41:35 ',\n 'GTI$USERNAME': 'DELL-4C85F8C16D\\\\Administrator',\n 'GTI$FULLUSERNAME': 'Unknown',\n 'GTI$WORKLIST': 'C:\\\\Documents and Settings\\\\Administrator\\\\Desktop\\\\2023-6-2-p0.gwl',\n 'GTI$INSTRUMENTTYPE': '4',\n 'GTI$Channel0FineGain': '100',\n 'GTI$Channel1FineGain': '100',\n 'GTI$Channel2FineGain': '100',\n 'GTI$Channel3FineGain': '100',\n 'GTI$Channel4FineGain': '100',\n 'GTI$ASSAYTYPE': 'EXPRESSPLUS20',\n 'GTI$ERRORCOUNT': '0',\n 'GTI$HIGHCONCTRIGGER': '500',\n 'GTI$CompensationPM3PM2': '0.0000',\n 'GTI$CompensationPM3PM1': '0.0000',\n 'GTI$CompensationPM2PM3': '0.0000',\n 'GTI$CompensationPM2PM1': '0.0000',\n 'GTI$CompensationPM1PM3': '0.0000',\n 'GTI$CompensationPM1PM2': '0.0000',\n 'GTI$Channel0Baseline': '190',\n 'GTI$Channel1Baseline': '185',\n 'GTI$Channel2Baseline': '210',\n 'GTI$Channel3Baseline': '178',\n 'GTI$Channel4Baseline': '187',\n '$P12G': '1',\n '$P13G': '1',\n '$P12V': '0',\n '$P13V': '0',\n '$CYTSN': '6735116044',\n '$TIMESTEP': '0.000025',\n '$BTIM': '10:41:06 ',\n 'GTI$NREGIONS': '17',\n 'GTI$R1ACT': '0',\n 'GTI$R2ACT': '0',\n 'GTI$R3ACT': '0',\n 'GTI$R4ACT': '1',\n 'GTI$R5ACT': '1',\n 'GTI$R6ACT': '1',\n 'GTI$R7ACT': '0',\n 'GTI$R8ACT': '0',\n 'GTI$R9ACT': '0',\n 'GTI$R10ACT': '0',\n 'GTI$R11ACT': '0',\n 'GTI$R12ACT': '0',\n 'GTI$R13ACT': '0',\n 'GTI$R14ACT': '0',\n 'GTI$R15ACT': '0',\n 'GTI$R16ACT': '0',\n 'GTI$R17ACT': '0',\n 'GTI$R1S': 'Plot 1: Rectangular Region',\n 'GTI$R1COL': '000000000000',\n 'GTI$R1TYP': 'RECTREGION',\n '$R1I': 'P6,P7',\n 'GTI$R1DEF': '0.00000,3.61225,3.61225,0.00000',\n 'GTI$R2S': 'Plot 1: Histogram',\n 'GTI$R2COL': '000000000000',\n 'GTI$R2TYP': 'HISTMARKER',\n '$R2I': 'P4',\n 'GTI$R2DEF': '0.00000,0.00000',\n 'GTI$R3S': 'Plot 2: Rectangular Region',\n 'GTI$R3COL': '000000000000',\n 'GTI$R3TYP': 'RECTREGION',\n '$R3I': 'P4,P3',\n 'GTI$R3DEF': '0.00000,3.61225,3.61225,0.00000',\n 'GTI$R4S': 'Plot 2: Histogram Marker 1',\n 'GTI$R4COL': '000000000000',\n 'GTI$R4TYP': 'HISTMARKER',\n '$R4I': 'P4',\n 'GTI$R4DEF': '0.00000,1.41497',\n 'GTI$R5S': 'Plot 2: Histogram Marker 2',\n 'GTI$R5COL': '000000000000',\n 'GTI$R5TYP': 'HISTMARKER',\n '$R5I': 'P4',\n 'GTI$R5DEF': '1.41497,3.61236',\n 'GTI$R6S': 'Plot 2: Histogram Marker 3',\n 'GTI$R6COL': '000000000000',\n 'GTI$R6TYP': 'HISTMARKER',\n '$R6I': 'P4',\n 'GTI$R6DEF': '3.61236,3.61236',\n 'GTI$R7S': 'Plot 2: Quadrant Marker X Axis',\n 'GTI$R7COL': '000000000000',\n 'GTI$R7TYP': 'DOTMARKER',\n '$R7I': 'P4,P3',\n 'GTI$R7DEF': '0.00000,0.00000',\n 'GTI$R8S': 'Plot 2: Quadrant Marker Y Axis',\n 'GTI$R8COL': '000000000000',\n 'GTI$R8TYP': 'DOTMARKER',\n '$R8I': 'P3,P4',\n 'GTI$R8DEF': '0.00000,0.00000',\n 'GTI$R9S': 'Plot 3: Rectangular Region',\n 'GTI$R9COL': '000000000000',\n 'GTI$R9TYP': 'RECTREGION',\n '$R9I': 'P4,P5',\n 'GTI$R9DEF': '0.00000,3.61225,3.61225,0.00000',\n 'GTI$R10S': 'Plot 3: Histogram Marker 1',\n 'GTI$R10COL': '000000000000',\n 'GTI$R10TYP': 'HISTMARKER',\n '$R10I': 'P3',\n 'GTI$R10DEF': '0.00000,0.00000',\n 'GTI$R11S': 'Plot 3: Histogram Marker 2',\n 'GTI$R11COL': '000000000000',\n 'GTI$R11TYP': 'HISTMARKER',\n '$R11I': 'P3',\n 'GTI$R11DEF': '0.00000,0.00000',\n 'GTI$R12S': 'Plot 3: Histogram Marker 3',\n 'GTI$R12COL': '000000000000',\n 'GTI$R12TYP': 'HISTMARKER',\n '$R12I': 'P3',\n 'GTI$R12DEF': '0.00000,0.00000',\n 'GTI$R13S': 'Plot 3: Quadrant Marker X Axis',\n 'GTI$R13COL': '000000000000',\n 'GTI$R13TYP': 'DOTMARKER',\n '$R13I': 'P3,P5',\n 'GTI$R13DEF': '1.97778,0.00000',\n 'GTI$R14S': 'Plot 3: Quadrant Marker Y Axis',\n 'GTI$R14COL': '000000000000',\n 'GTI$R14TYP': 'DOTMARKER',\n '$R14I': 'P5,P3',\n 'GTI$R14DEF': '1.69767,0.00000',\n 'GTI$R15S': 'Plot 1: Elliptical Region',\n 'GTI$R15COL': '000000000000',\n 'GTI$R15TYP': 'ELLIPSEREGION',\n '$R15I': 'P1,P2',\n 'GTI$R15DEF': '4.00000,4.00000,1000.00000,600.00000,0.00000',\n 'GTI$R16S': 'Plot 2: Elliptical Region',\n 'GTI$R16COL': '000000000000',\n 'GTI$R16TYP': 'ELLIPSEREGION',\n '$R16I': 'P4,P3',\n 'GTI$R16DEF': '4.00000,4.00000,1000.00000,600.00000,0.00000',\n 'GTI$R17S': 'Plot 3: Elliptical Region',\n 'GTI$R17COL': '000000000000',\n 'GTI$R17TYP': 'ELLIPSEREGION',\n '$R17I': 'P3,P5',\n 'GTI$R17DEF': '2.00000,2.00000,1000.00000,600.00000,0.00000',\n 'GTI$NGATES': '29',\n 'GTI$G1ACT': '0',\n 'GTI$G2ACT': '0',\n 'GTI$G3ACT': '0',\n 'GTI$G4ACT': '1',\n 'GTI$G5ACT': '1',\n 'GTI$G6ACT': '1',\n 'GTI$G7ACT': '0',\n 'GTI$G8ACT': '0',\n 'GTI$G9ACT': '0',\n 'GTI$G10ACT': '0',\n 'GTI$G11ACT': '0',\n 'GTI$G12ACT': '0',\n 'GTI$G13ACT': '0',\n 'GTI$G14ACT': '0',\n 'GTI$G15ACT': '0',\n 'GTI$G16ACT': '0',\n 'GTI$G17ACT': '0',\n 'GTI$G18ACT': '0',\n 'GTI$G19ACT': '1',\n 'GTI$G20ACT': '1',\n 'GTI$G21ACT': '1',\n 'GTI$G22ACT': '1',\n 'GTI$G23ACT': '1',\n 'GTI$G24ACT': '1',\n 'GTI$G25ACT': '1',\n 'GTI$G26ACT': '1',\n 'GTI$G27ACT': '1',\n 'GTI$G28ACT': '1',\n 'GTI$G29ACT': '1',\n 'GTI$G1S': 'Plot 1: Rectangular Region',\n 'GTI$G1COL': '000000000000',\n 'GTI$G1DEF': 'R0',\n 'GTI$G2S': 'Plot 1: Histogram',\n 'GTI$G2COL': '000000000000',\n 'GTI$G2DEF': 'R1',\n 'GTI$G3S': 'Plot 2: Rectangular Region',\n 'GTI$G3COL': '000000000000',\n 'GTI$G3DEF': 'R2',\n 'GTI$G4S': 'Plot 2: Histogram Marker 1',\n 'GTI$G4COL': '000000000000',\n 'GTI$G4DEF': 'R3 AND (NOT R4) AND (NOT R5)',\n 'GTI$G5S': 'Plot 2: Histogram Marker 2',\n 'GTI$G5COL': '000000000000',\n 'GTI$G5DEF': 'R4 AND (NOT R5)',\n 'GTI$G6S': 'Plot 2: Histogram Marker 3',\n 'GTI$G6COL': '000000000000',\n 'GTI$G6DEF': 'R5',\n 'GTI$G7S': 'Plot 2: Quad Lower Left',\n 'GTI$G7COL': '000000000000',\n 'GTI$G7DEF': '(NOT R6) AND (NOT R7)',\n 'GTI$G8S': 'Plot 2: Quad Lower Right',\n 'GTI$G8COL': '000000000000',\n 'GTI$G8DEF': 'R6 AND (NOT R7)',\n 'GTI$G9S': 'Plot 2: Quad Upper Left',\n 'GTI$G9COL': '000000000000',\n 'GTI$G9DEF': '(NOT R6) AND R7',\n 'GTI$G10S': 'Plot 2: Quad Upper Right',\n 'GTI$G10COL': '000000000000',\n 'GTI$G10DEF': 'R6 AND R7',\n 'GTI$G11S': 'Plot 3: Rectangular Region',\n 'GTI$G11COL': '000000000000',\n 'GTI$G11DEF': 'R16',\n 'GTI$G12S': 'Plot 3: Histogram Marker 1',\n 'GTI$G12COL': '000000000000',\n 'GTI$G12DEF': 'R9',\n 'GTI$G13S': 'Plot 3: Histogram Marker 2',\n 'GTI$G13COL': '000000000000',\n 'GTI$G13DEF': 'R10',\n 'GTI$G14S': 'Plot 3: Histogram Marker 3',\n 'GTI$G14COL': '000000000000',\n 'GTI$G14DEF': 'R11',\n 'GTI$G15S': 'Plot 3: Quad Lower Left',\n 'GTI$G15COL': '000000000000',\n 'GTI$G15DEF': '(NOT R12) AND (NOT R13)',\n 'GTI$G16S': 'Plot 3: Quad Lower Right',\n 'GTI$G16COL': '000000000000',\n 'GTI$G16DEF': 'R12 AND (NOT R13)',\n 'GTI$G17S': 'Plot 3: Quad Upper Left',\n 'GTI$G17COL': '000000000000',\n 'GTI$G17DEF': '(NOT R12) AND R13',\n 'GTI$G18S': 'Plot 3: Quad Upper Right',\n 'GTI$G18COL': '000000000000',\n 'GTI$G18DEF': 'R12 AND R13',\n 'GTI$G19S': 'Plot 1: Gating Condition',\n 'GTI$G19COL': '000000000000',\n 'GTI$G19DEF': 'TRUE',\n 'GTI$G20S': 'Plot 2: Gating Condition',\n 'GTI$G20COL': '000000000000',\n 'GTI$G20DEF': 'TRUE',\n 'GTI$G21S': 'Plot 3: Gating Condition',\n 'GTI$G21COL': '000000000000',\n 'GTI$G21DEF': 'TRUE',\n 'GTI$G22S': 'Plot2: Gated Stat Computation 1',\n 'GTI$G22COL': '000000000000',\n 'GTI$G22DEF': 'R3 AND (NOT R4) AND (NOT R5)',\n 'GTI$G23S': 'Plot2: Gated Stat Computation 2',\n 'GTI$G23COL': '000000000000',\n 'GTI$G23DEF': 'R4 AND (NOT R5)',\n 'GTI$G24S': 'Plot2: Gated Stat Computation 3',\n 'GTI$G24COL': '000000000000',\n 'GTI$G24DEF': 'R5',\n 'GTI$G25S': 'Plot2: Gated Stat Computation 4',\n 'GTI$G25COL': '000000000000',\n 'GTI$G25DEF': 'FALSE',\n 'GTI$G26S': 'Plot3: Gated Stat Computation 1',\n 'GTI$G26COL': '000000000000',\n 'GTI$G26DEF': 'FALSE',\n 'GTI$G27S': 'Plot3: Gated Stat Computation 2',\n 'GTI$G27COL': '000000000000',\n 'GTI$G27DEF': 'FALSE',\n 'GTI$G28S': 'Plot3: Gated Stat Computation 3',\n 'GTI$G28COL': '000000000000',\n 'GTI$G28DEF': 'FALSE',\n 'GTI$G29S': 'Plot3: Gated Stat Computation 4',\n 'GTI$G29COL': '000000000000',\n 'GTI$G29DEF': 'FALSE',\n '$BYTEORD': '1,2,3,4',\n '$DATATYPE': 'F',\n '$MODE': 'L',\n '$PAR': 11,\n '$DATE': '02-JUN-2023 ',\n '$ETIM': '10:41:23 ',\n '$TOT': 2000,\n '$BEGINDATA': '     7624',\n '$ENDDATA': '    95623',\n '_channels_':                $PnG $PnV  $PnB  $PnR                            $PnS  \\\n Channel Number                                                         \n 1                 4    0    32  4096      Forward Scatter (FSC-HLin)   \n 2                 1  250    32  4096         Side Scatter (SSC-HLin)   \n 3                 1  580    32  4096   Green Fluorescence (GRN-HLog)   \n 4                 1  561    32  4096              GP64-PE (YLW-HLog)   \n 5                 1  374    32  4096     Red Fluorescence (RED-HLog)   \n 6                 4    0    32  4096      Forward Scatter (FSC-HLog)   \n 7                 1  250    32  4096         Side Scatter (SSC-HLog)   \n 8                 1  580    32  4096   Green Fluorescence (GRN-HLin)   \n 9                 1  561    32  4096  Yellow Fluorescence (YLW-HLin)   \n 10                1  374    32  4096     Red Fluorescence (RED-HLin)   \n 11                1    0    32  4096                            Time   \n \n                     $PnN        $PnE  \n Channel Number                        \n 1               FSC-HLin  [0.0, 0.0]  \n 2               SSC-HLin  [0.0, 0.0]  \n 3               GRN-HLog  [4.0, 1.0]  \n 4               YLW-HLog  [4.0, 1.0]  \n 5               RED-HLog  [4.0, 1.0]  \n 6               FSC-HLog  [4.0, 1.0]  \n 7               SSC-HLog  [4.0, 1.0]  \n 8               GRN-HLin  [0.0, 0.0]  \n 9               YLW-HLin  [0.0, 0.0]  \n 10              RED-HLin  [0.0, 0.0]  \n 11                  TIME  [0.0, 0.0]  ,\n '_channel_names_': ('Forward Scatter (FSC-HLin)',\n  'Side Scatter (SSC-HLin)',\n  'Green Fluorescence (GRN-HLog)',\n  'GP64-PE (YLW-HLog)',\n  'Red Fluorescence (RED-HLog)',\n  'Forward Scatter (FSC-HLog)',\n  'Side Scatter (SSC-HLog)',\n  'Green Fluorescence (GRN-HLin)',\n  'Yellow Fluorescence (YLW-HLin)',\n  'Red Fluorescence (RED-HLin)',\n  'Time')}"
     },
     "execution_count": 9,
     "metadata": {},
     "output_type": "execute_result"
    }
   ],
   "source": [
    "meta"
   ],
   "metadata": {
    "collapsed": false
   }
  },
  {
   "cell_type": "code",
   "execution_count": 10,
   "outputs": [
    {
     "data": {
      "text/plain": "      Forward Scatter (FSC-HLin)  Side Scatter (SSC-HLin)  \\\n0                     164.742996                 5.043732   \n1                     189.666626                10.048607   \n2                     191.258820                 6.319672   \n3                      91.267212                11.105179   \n4                      97.380424                11.825203   \n...                          ...                      ...   \n1995                  169.039124                14.191505   \n1996                  165.128540                12.517609   \n1997                  177.219269                 7.458977   \n1998                  190.902222                 9.803177   \n1999                  248.142181                19.256355   \n\n      Green Fluorescence (GRN-HLog)  GP64-PE (YLW-HLog)  \\\n0                          0.000000            3.236709   \n1                          0.000000            2.668673   \n2                          0.000000            2.639044   \n3                          0.000000            2.957730   \n4                          0.000000            2.953943   \n...                             ...                 ...   \n1995                       0.000000            2.540373   \n1996                       0.000000            2.274184   \n1997                       0.000000            2.816216   \n1998                       0.037513            2.607020   \n1999                       0.126757            2.977643   \n\n      Red Fluorescence (RED-HLog)  Forward Scatter (FSC-HLog)  \\\n0                        0.778084                    2.216807   \n1                        0.161906                    2.277991   \n2                        0.161111                    2.281621   \n3                        0.503129                    1.960315   \n4                        0.502733                    1.988472   \n...                           ...                         ...   \n1995                     0.056201                    2.227987   \n1996                     0.000000                    2.217822   \n1997                     0.279343                    2.248511   \n1998                     0.176998                    2.280811   \n1999                     0.491640                    2.394701   \n\n      Side Scatter (SSC-HLog)  Green Fluorescence (GRN-HLin)  \\\n0                    0.702752                       1.000000   \n1                    1.002106                       1.000000   \n2                    0.800695                       1.000000   \n3                    1.045526                       1.000000   \n4                    1.072809                       1.000000   \n...                       ...                            ...   \n1995                 1.152028                       1.000000   \n1996                 1.097521                       1.000000   \n1997                 0.872679                       1.000000   \n1998                 0.991367                       1.090218   \n1999                 1.284574                       1.338928   \n\n      Yellow Fluorescence (YLW-HLin)  Red Fluorescence (RED-HLin)      Time  \n0                        1724.682617                     5.999077     861.0  \n1                         466.308044                     1.451797     888.0  \n2                         435.556366                     1.449142     975.0  \n3                         907.255981                     3.185143    1662.0  \n4                         899.380127                     3.182243    1664.0  \n...                              ...                          ...       ...  \n1995                      347.034454                     1.138153  683356.0  \n1996                      188.011307                     1.000000  683426.0  \n1997                      654.962097                     1.902580  683457.0  \n1998                      404.594971                     1.503136  683513.0  \n1999                      949.822693                     3.101990  683642.0  \n\n[2000 rows x 11 columns]",
      "text/html": "<div>\n<style scoped>\n    .dataframe tbody tr th:only-of-type {\n        vertical-align: middle;\n    }\n\n    .dataframe tbody tr th {\n        vertical-align: top;\n    }\n\n    .dataframe thead th {\n        text-align: right;\n    }\n</style>\n<table border=\"1\" class=\"dataframe\">\n  <thead>\n    <tr style=\"text-align: right;\">\n      <th></th>\n      <th>Forward Scatter (FSC-HLin)</th>\n      <th>Side Scatter (SSC-HLin)</th>\n      <th>Green Fluorescence (GRN-HLog)</th>\n      <th>GP64-PE (YLW-HLog)</th>\n      <th>Red Fluorescence (RED-HLog)</th>\n      <th>Forward Scatter (FSC-HLog)</th>\n      <th>Side Scatter (SSC-HLog)</th>\n      <th>Green Fluorescence (GRN-HLin)</th>\n      <th>Yellow Fluorescence (YLW-HLin)</th>\n      <th>Red Fluorescence (RED-HLin)</th>\n      <th>Time</th>\n    </tr>\n  </thead>\n  <tbody>\n    <tr>\n      <th>0</th>\n      <td>164.742996</td>\n      <td>5.043732</td>\n      <td>0.000000</td>\n      <td>3.236709</td>\n      <td>0.778084</td>\n      <td>2.216807</td>\n      <td>0.702752</td>\n      <td>1.000000</td>\n      <td>1724.682617</td>\n      <td>5.999077</td>\n      <td>861.0</td>\n    </tr>\n    <tr>\n      <th>1</th>\n      <td>189.666626</td>\n      <td>10.048607</td>\n      <td>0.000000</td>\n      <td>2.668673</td>\n      <td>0.161906</td>\n      <td>2.277991</td>\n      <td>1.002106</td>\n      <td>1.000000</td>\n      <td>466.308044</td>\n      <td>1.451797</td>\n      <td>888.0</td>\n    </tr>\n    <tr>\n      <th>2</th>\n      <td>191.258820</td>\n      <td>6.319672</td>\n      <td>0.000000</td>\n      <td>2.639044</td>\n      <td>0.161111</td>\n      <td>2.281621</td>\n      <td>0.800695</td>\n      <td>1.000000</td>\n      <td>435.556366</td>\n      <td>1.449142</td>\n      <td>975.0</td>\n    </tr>\n    <tr>\n      <th>3</th>\n      <td>91.267212</td>\n      <td>11.105179</td>\n      <td>0.000000</td>\n      <td>2.957730</td>\n      <td>0.503129</td>\n      <td>1.960315</td>\n      <td>1.045526</td>\n      <td>1.000000</td>\n      <td>907.255981</td>\n      <td>3.185143</td>\n      <td>1662.0</td>\n    </tr>\n    <tr>\n      <th>4</th>\n      <td>97.380424</td>\n      <td>11.825203</td>\n      <td>0.000000</td>\n      <td>2.953943</td>\n      <td>0.502733</td>\n      <td>1.988472</td>\n      <td>1.072809</td>\n      <td>1.000000</td>\n      <td>899.380127</td>\n      <td>3.182243</td>\n      <td>1664.0</td>\n    </tr>\n    <tr>\n      <th>...</th>\n      <td>...</td>\n      <td>...</td>\n      <td>...</td>\n      <td>...</td>\n      <td>...</td>\n      <td>...</td>\n      <td>...</td>\n      <td>...</td>\n      <td>...</td>\n      <td>...</td>\n      <td>...</td>\n    </tr>\n    <tr>\n      <th>1995</th>\n      <td>169.039124</td>\n      <td>14.191505</td>\n      <td>0.000000</td>\n      <td>2.540373</td>\n      <td>0.056201</td>\n      <td>2.227987</td>\n      <td>1.152028</td>\n      <td>1.000000</td>\n      <td>347.034454</td>\n      <td>1.138153</td>\n      <td>683356.0</td>\n    </tr>\n    <tr>\n      <th>1996</th>\n      <td>165.128540</td>\n      <td>12.517609</td>\n      <td>0.000000</td>\n      <td>2.274184</td>\n      <td>0.000000</td>\n      <td>2.217822</td>\n      <td>1.097521</td>\n      <td>1.000000</td>\n      <td>188.011307</td>\n      <td>1.000000</td>\n      <td>683426.0</td>\n    </tr>\n    <tr>\n      <th>1997</th>\n      <td>177.219269</td>\n      <td>7.458977</td>\n      <td>0.000000</td>\n      <td>2.816216</td>\n      <td>0.279343</td>\n      <td>2.248511</td>\n      <td>0.872679</td>\n      <td>1.000000</td>\n      <td>654.962097</td>\n      <td>1.902580</td>\n      <td>683457.0</td>\n    </tr>\n    <tr>\n      <th>1998</th>\n      <td>190.902222</td>\n      <td>9.803177</td>\n      <td>0.037513</td>\n      <td>2.607020</td>\n      <td>0.176998</td>\n      <td>2.280811</td>\n      <td>0.991367</td>\n      <td>1.090218</td>\n      <td>404.594971</td>\n      <td>1.503136</td>\n      <td>683513.0</td>\n    </tr>\n    <tr>\n      <th>1999</th>\n      <td>248.142181</td>\n      <td>19.256355</td>\n      <td>0.126757</td>\n      <td>2.977643</td>\n      <td>0.491640</td>\n      <td>2.394701</td>\n      <td>1.284574</td>\n      <td>1.338928</td>\n      <td>949.822693</td>\n      <td>3.101990</td>\n      <td>683642.0</td>\n    </tr>\n  </tbody>\n</table>\n<p>2000 rows × 11 columns</p>\n</div>"
     },
     "execution_count": 10,
     "metadata": {},
     "output_type": "execute_result"
    }
   ],
   "source": [
    "data\n"
   ],
   "metadata": {
    "collapsed": false
   }
  },
  {
   "cell_type": "code",
   "execution_count": 11,
   "outputs": [
    {
     "data": {
      "text/plain": "Forward Scatter (FSC-HLin)           164.565338\nSide Scatter (SSC-HLin)                8.048932\nGreen Fluorescence (GRN-HLog)          0.023829\nGP64-PE (YLW-HLog)                     2.413228\nRed Fluorescence (RED-HLog)            0.185747\nForward Scatter (FSC-HLog)             2.203253\nSide Scatter (SSC-HLog)                0.855997\nGreen Fluorescence (GRN-HLin)          1.121088\nYellow Fluorescence (YLW-HLin)       499.517303\nRed Fluorescence (RED-HLin)            2.025768\nTime                              346359.875000\ndtype: float32"
     },
     "execution_count": 11,
     "metadata": {},
     "output_type": "execute_result"
    }
   ],
   "source": [
    "data.mean(axis=0)"
   ],
   "metadata": {
    "collapsed": false
   }
  },
  {
   "cell_type": "code",
   "execution_count": 12,
   "outputs": [
    {
     "data": {
      "text/plain": "pandas.core.frame.DataFrame"
     },
     "execution_count": 12,
     "metadata": {},
     "output_type": "execute_result"
    }
   ],
   "source": [
    "type(data)"
   ],
   "metadata": {
    "collapsed": false
   }
  },
  {
   "cell_type": "code",
   "execution_count": 13,
   "outputs": [
    {
     "data": {
      "text/plain": "dict"
     },
     "execution_count": 13,
     "metadata": {},
     "output_type": "execute_result"
    }
   ],
   "source": [
    "type(meta)"
   ],
   "metadata": {
    "collapsed": false
   }
  },
  {
   "cell_type": "code",
   "execution_count": 15,
   "outputs": [
    {
     "data": {
      "text/plain": "dict_keys(['__header__', 'GTI$BEGINLOG', 'GTI$ENDLOG', '$BEGINANALYSIS', '$ENDANALYSIS', '$BEGINSTEXT', '$ENDSTEXT', '$NEXTDATA', '$SYS', 'GTI$DataSetName', '$FIL', 'GTI$DILUTIONFACTOR', 'GTI$ORIGINALVOLUME', 'GTI$TOTALNUMREADINGS', 'GTI$PUMPSAMPLESPEED', 'GTI$FLOWRATECAL', '$CYT', '$TR', 'GTI$SAMPLEID', '$SMNO', 'GTI$TERMINATIONCOUNT', 'GTI$ACCESSRIGHTS', 'GTI$ANALYSISDATE', 'GTI$ANALYSISTIME', 'GTI$USERNAME', 'GTI$FULLUSERNAME', 'GTI$WORKLIST', 'GTI$INSTRUMENTTYPE', 'GTI$Channel0FineGain', 'GTI$Channel1FineGain', 'GTI$Channel2FineGain', 'GTI$Channel3FineGain', 'GTI$Channel4FineGain', 'GTI$ASSAYTYPE', 'GTI$ERRORCOUNT', 'GTI$HIGHCONCTRIGGER', 'GTI$CompensationPM3PM2', 'GTI$CompensationPM3PM1', 'GTI$CompensationPM2PM3', 'GTI$CompensationPM2PM1', 'GTI$CompensationPM1PM3', 'GTI$CompensationPM1PM2', 'GTI$Channel0Baseline', 'GTI$Channel1Baseline', 'GTI$Channel2Baseline', 'GTI$Channel3Baseline', 'GTI$Channel4Baseline', '$P12G', '$P13G', '$P12V', '$P13V', '$CYTSN', '$TIMESTEP', '$BTIM', 'GTI$NREGIONS', 'GTI$R1ACT', 'GTI$R2ACT', 'GTI$R3ACT', 'GTI$R4ACT', 'GTI$R5ACT', 'GTI$R6ACT', 'GTI$R7ACT', 'GTI$R8ACT', 'GTI$R9ACT', 'GTI$R10ACT', 'GTI$R11ACT', 'GTI$R12ACT', 'GTI$R13ACT', 'GTI$R14ACT', 'GTI$R15ACT', 'GTI$R16ACT', 'GTI$R17ACT', 'GTI$R1S', 'GTI$R1COL', 'GTI$R1TYP', '$R1I', 'GTI$R1DEF', 'GTI$R2S', 'GTI$R2COL', 'GTI$R2TYP', '$R2I', 'GTI$R2DEF', 'GTI$R3S', 'GTI$R3COL', 'GTI$R3TYP', '$R3I', 'GTI$R3DEF', 'GTI$R4S', 'GTI$R4COL', 'GTI$R4TYP', '$R4I', 'GTI$R4DEF', 'GTI$R5S', 'GTI$R5COL', 'GTI$R5TYP', '$R5I', 'GTI$R5DEF', 'GTI$R6S', 'GTI$R6COL', 'GTI$R6TYP', '$R6I', 'GTI$R6DEF', 'GTI$R7S', 'GTI$R7COL', 'GTI$R7TYP', '$R7I', 'GTI$R7DEF', 'GTI$R8S', 'GTI$R8COL', 'GTI$R8TYP', '$R8I', 'GTI$R8DEF', 'GTI$R9S', 'GTI$R9COL', 'GTI$R9TYP', '$R9I', 'GTI$R9DEF', 'GTI$R10S', 'GTI$R10COL', 'GTI$R10TYP', '$R10I', 'GTI$R10DEF', 'GTI$R11S', 'GTI$R11COL', 'GTI$R11TYP', '$R11I', 'GTI$R11DEF', 'GTI$R12S', 'GTI$R12COL', 'GTI$R12TYP', '$R12I', 'GTI$R12DEF', 'GTI$R13S', 'GTI$R13COL', 'GTI$R13TYP', '$R13I', 'GTI$R13DEF', 'GTI$R14S', 'GTI$R14COL', 'GTI$R14TYP', '$R14I', 'GTI$R14DEF', 'GTI$R15S', 'GTI$R15COL', 'GTI$R15TYP', '$R15I', 'GTI$R15DEF', 'GTI$R16S', 'GTI$R16COL', 'GTI$R16TYP', '$R16I', 'GTI$R16DEF', 'GTI$R17S', 'GTI$R17COL', 'GTI$R17TYP', '$R17I', 'GTI$R17DEF', 'GTI$NGATES', 'GTI$G1ACT', 'GTI$G2ACT', 'GTI$G3ACT', 'GTI$G4ACT', 'GTI$G5ACT', 'GTI$G6ACT', 'GTI$G7ACT', 'GTI$G8ACT', 'GTI$G9ACT', 'GTI$G10ACT', 'GTI$G11ACT', 'GTI$G12ACT', 'GTI$G13ACT', 'GTI$G14ACT', 'GTI$G15ACT', 'GTI$G16ACT', 'GTI$G17ACT', 'GTI$G18ACT', 'GTI$G19ACT', 'GTI$G20ACT', 'GTI$G21ACT', 'GTI$G22ACT', 'GTI$G23ACT', 'GTI$G24ACT', 'GTI$G25ACT', 'GTI$G26ACT', 'GTI$G27ACT', 'GTI$G28ACT', 'GTI$G29ACT', 'GTI$G1S', 'GTI$G1COL', 'GTI$G1DEF', 'GTI$G2S', 'GTI$G2COL', 'GTI$G2DEF', 'GTI$G3S', 'GTI$G3COL', 'GTI$G3DEF', 'GTI$G4S', 'GTI$G4COL', 'GTI$G4DEF', 'GTI$G5S', 'GTI$G5COL', 'GTI$G5DEF', 'GTI$G6S', 'GTI$G6COL', 'GTI$G6DEF', 'GTI$G7S', 'GTI$G7COL', 'GTI$G7DEF', 'GTI$G8S', 'GTI$G8COL', 'GTI$G8DEF', 'GTI$G9S', 'GTI$G9COL', 'GTI$G9DEF', 'GTI$G10S', 'GTI$G10COL', 'GTI$G10DEF', 'GTI$G11S', 'GTI$G11COL', 'GTI$G11DEF', 'GTI$G12S', 'GTI$G12COL', 'GTI$G12DEF', 'GTI$G13S', 'GTI$G13COL', 'GTI$G13DEF', 'GTI$G14S', 'GTI$G14COL', 'GTI$G14DEF', 'GTI$G15S', 'GTI$G15COL', 'GTI$G15DEF', 'GTI$G16S', 'GTI$G16COL', 'GTI$G16DEF', 'GTI$G17S', 'GTI$G17COL', 'GTI$G17DEF', 'GTI$G18S', 'GTI$G18COL', 'GTI$G18DEF', 'GTI$G19S', 'GTI$G19COL', 'GTI$G19DEF', 'GTI$G20S', 'GTI$G20COL', 'GTI$G20DEF', 'GTI$G21S', 'GTI$G21COL', 'GTI$G21DEF', 'GTI$G22S', 'GTI$G22COL', 'GTI$G22DEF', 'GTI$G23S', 'GTI$G23COL', 'GTI$G23DEF', 'GTI$G24S', 'GTI$G24COL', 'GTI$G24DEF', 'GTI$G25S', 'GTI$G25COL', 'GTI$G25DEF', 'GTI$G26S', 'GTI$G26COL', 'GTI$G26DEF', 'GTI$G27S', 'GTI$G27COL', 'GTI$G27DEF', 'GTI$G28S', 'GTI$G28COL', 'GTI$G28DEF', 'GTI$G29S', 'GTI$G29COL', 'GTI$G29DEF', '$BYTEORD', '$DATATYPE', '$MODE', '$PAR', '$DATE', '$ETIM', '$TOT', '$BEGINDATA', '$ENDDATA', '_channels_', '_channel_names_'])"
     },
     "execution_count": 15,
     "metadata": {},
     "output_type": "execute_result"
    }
   ],
   "source": [
    "meta.keys()\n"
   ],
   "metadata": {
    "collapsed": false
   }
  },
  {
   "cell_type": "code",
   "execution_count": null,
   "outputs": [],
   "source": [],
   "metadata": {
    "collapsed": false
   }
  }
 ],
 "metadata": {
  "kernelspec": {
   "display_name": "Python 3",
   "language": "python",
   "name": "python3"
  },
  "language_info": {
   "codemirror_mode": {
    "name": "ipython",
    "version": 2
   },
   "file_extension": ".py",
   "mimetype": "text/x-python",
   "name": "python",
   "nbconvert_exporter": "python",
   "pygments_lexer": "ipython2",
   "version": "2.7.6"
  }
 },
 "nbformat": 4,
 "nbformat_minor": 0
}
